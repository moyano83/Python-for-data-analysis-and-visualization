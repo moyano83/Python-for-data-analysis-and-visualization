{
 "cells": [
  {
   "cell_type": "markdown",
   "metadata": {},
   "source": [
    "# Series"
   ]
  },
  {
   "cell_type": "code",
   "execution_count": 18,
   "metadata": {},
   "outputs": [
    {
     "name": "stdout",
     "output_type": "stream",
     "text": [
      "Values:[ 3  6  9 12], index:RangeIndex(start=0, stop=4, step=1)\n",
      "CHINA      23000000.0\n",
      "GERMANY     8000000.0\n",
      "SPAIN             NaN\n",
      "dtype: float64\n",
      "CHINA       True\n",
      "GERMANY     True\n",
      "SPAIN      False\n",
      "dtype: bool\n",
      "USSR       27000000\n",
      "CHINA      23000000\n",
      "GERMANY     8000000\n",
      "JAPAN       6000000\n",
      "USA          400000\n",
      "Name: World War 2 Casualties, dtype: int64\n",
      "CHINA      46000000.0\n",
      "GERMANY    16000000.0\n",
      "JAPAN             NaN\n",
      "SPAIN             NaN\n",
      "USA               NaN\n",
      "USSR              NaN\n",
      "dtype: float64\n"
     ]
    }
   ],
   "source": [
    "import numpy as np\n",
    "import pandas as pd\n",
    "from pandas import Series, DataFrame\n",
    "\n",
    "obj = Series([3,6,9,12])\n",
    "\n",
    "print('Values:{}, index:{}'.format(obj.values, obj.index))\n",
    "\n",
    "# It is also possible to assign the index to use\n",
    "ww2_casualties = Series([27000000,23000000,8000000,6000000,400000], index=['USSR','CHINA','GERMANY','JAPAN','USA']) \n",
    "\n",
    "# Find countries with more than 4.000.000 casualties\n",
    "ww2_casualties[ww2_casualties > 4000000]\n",
    "\n",
    "# Find if a country is in the serie\n",
    "'SPAIN' in ww2_casualties\n",
    "\n",
    "# For convenienve might be simpler to work with a dictionary\n",
    "ww2_dict = ww2_casualties.to_dict()\n",
    "ww2_dict['USSR']\n",
    "\n",
    "# And the inverse, map to Serie\n",
    "Series(ww2_dict)\n",
    "\n",
    "# You can create a Serie from a dictionary and a list, associating the value contained in the dictionary \n",
    "# to the list item, if it doesn't exists it sets null as value\n",
    "other_serie = Series(ww2_dict, index=['CHINA', 'GERMANY', 'SPAIN'])\n",
    "print(other_serie)\n",
    "\n",
    "# You can apply functions to the series like:\n",
    "print(pd.notnull(other_serie)) # inverse is pd.isnull(other_serie)\n",
    "\n",
    "# You can label your Serie\n",
    "ww2_casualties.name = 'World War 2 Casualties'\n",
    "print(ww2_casualties)\n",
    "\n",
    "# As well as the index\n",
    "ww2_casualties.index.name = 'Countries'\n",
    "\n",
    "# Addition is possible, values are added and stored in the index item\n",
    "print(ww2_casualties + other_serie)"
   ]
  },
  {
   "cell_type": "markdown",
   "metadata": {},
   "source": [
    "# DataFrames"
   ]
  },
  {
   "cell_type": "code",
   "execution_count": 55,
   "metadata": {},
   "outputs": [
    {
     "name": "stdout",
     "output_type": "stream",
     "text": [
      "   Rank                  Team     GP  ...   Pct.  First NFL Season   Division\n",
      "0     1        Dallas Cowboys    914  ...  0.572              1960   NFC East\n",
      "1     2     Green Bay Packers  1,368  ...  0.567              1921  NFC North\n",
      "2     3  New England Patriots    916  ...  0.564              1960   AFC East\n",
      "3     4         Chicago Bears  1,402  ...  0.563              1920  NFC North\n",
      "4     5      Baltimore Ravens    384  ...  0.559              1996  AFC North\n",
      "5     6        Miami Dolphins    832  ...  0.552              1966   AFC East\n",
      "6     7     Minnesota Vikings    902  ...  0.547              1961  NFC North\n",
      "7     8   San Francisco 49ers  1,034  ...  0.534              1950   NFC West\n",
      "8     9       New York Giants  1,337  ...  0.533              1925   NFC East\n",
      "9    10        Denver Broncos    916  ...  0.533              1960   AFC West\n",
      "\n",
      "[10 rows x 9 columns]\n"
     ]
    },
    {
     "data": {
      "text/html": [
       "<div>\n",
       "<style scoped>\n",
       "    .dataframe tbody tr th:only-of-type {\n",
       "        vertical-align: middle;\n",
       "    }\n",
       "\n",
       "    .dataframe tbody tr th {\n",
       "        vertical-align: top;\n",
       "    }\n",
       "\n",
       "    .dataframe thead th {\n",
       "        text-align: right;\n",
       "    }\n",
       "</style>\n",
       "<table border=\"1\" class=\"dataframe\">\n",
       "  <thead>\n",
       "    <tr style=\"text-align: right;\">\n",
       "      <th></th>\n",
       "      <th>Cities</th>\n",
       "      <th>population</th>\n",
       "    </tr>\n",
       "  </thead>\n",
       "  <tbody>\n",
       "    <tr>\n",
       "      <td>0</td>\n",
       "      <td>Madrid</td>\n",
       "      <td>3300000</td>\n",
       "    </tr>\n",
       "    <tr>\n",
       "      <td>1</td>\n",
       "      <td>Barcelona</td>\n",
       "      <td>1600000</td>\n",
       "    </tr>\n",
       "    <tr>\n",
       "      <td>2</td>\n",
       "      <td>Sevilla</td>\n",
       "      <td>900000</td>\n",
       "    </tr>\n",
       "  </tbody>\n",
       "</table>\n",
       "</div>"
      ],
      "text/plain": [
       "      Cities  population\n",
       "0     Madrid     3300000\n",
       "1  Barcelona     1600000\n",
       "2    Sevilla      900000"
      ]
     },
     "execution_count": 55,
     "metadata": {},
     "output_type": "execute_result"
    }
   ],
   "source": [
    "import numpy as np\n",
    "import pandas as pd\n",
    "from pandas import Series, DataFrame\n",
    "import webbrowser\n",
    "\n",
    "# import data using webbrowser to play with it\n",
    "# go to website https://en.wikipedia.org/wiki/NFL_win-loss_records' and copy the data in your clipboard\n",
    "\n",
    "nfl_frame = pd.read_clipboard() # Pandas tries to read what you have copied on your clipboard\n",
    "print(nfl_frame)\n",
    "\n",
    "nfl_frame.columns # Returns the list of the columns\n",
    "nfl_frame.Won # And then it creates an attribute with the name of the column\n",
    "nfl_frame['Rank'] # Also possible to use it like a dictionary\n",
    "\n",
    "# You can define a dataframe from other dataframe columns\n",
    "# If you add a column that does not exists, it populates this new column with nulls\n",
    "other_df = DataFrame(nfl_frame, columns=['Rank', 'Team', 'Stadium']) \n",
    "\n",
    "# Data Retrieval\n",
    "other_df.head(2) # Gets the top 2 rows\n",
    "other_df.tail(2) # Returns the bottom 2 rows\n",
    "other_df.iloc[1] # Returns the row at index 1 (0 based)\n",
    "\n",
    "other_df['Stadium'] = 'Unknown Stadium' # Data assignment, it assigns Unknown Stadium to all Stadium values\n",
    "other_df['Stadium'] = np.arange(10) # Also possible to do it with an np array or other arrays\n",
    "\n",
    "# Same with Series, you can set specific indexes\n",
    "other_df['Stadium'] = Series(['Cowboys stadium', 'Dolphins arena'], index=[0,4])\n",
    "del other_df['Stadium'] # Deletes the stadium column\n",
    "\n",
    "\n",
    "# As with Series, it is also possible to generate a DataFrame from a dictionary\n",
    "cities =DataFrame({'Cities':['Madrid', 'Barcelona', 'Sevilla'], 'population':[3300000,1600000,900000]})"
   ]
  },
  {
   "cell_type": "code",
   "execution_count": 67,
   "metadata": {
    "scrolled": true
   },
   "outputs": [
    {
     "name": "stdout",
     "output_type": "stream",
     "text": [
      "Index(['JAPAN', 'USA'], dtype='object')\n"
     ]
    },
    {
     "ename": "TypeError",
     "evalue": "Index does not support mutable operations",
     "output_type": "error",
     "traceback": [
      "\u001b[0;31m---------------------------------------------------------------------------\u001b[0m",
      "\u001b[0;31mTypeError\u001b[0m                                 Traceback (most recent call last)",
      "\u001b[0;32m<ipython-input-67-b7aff160dd1d>\u001b[0m in \u001b[0;36m<module>\u001b[0;34m\u001b[0m\n\u001b[1;32m      8\u001b[0m \u001b[0mprint\u001b[0m\u001b[0;34m(\u001b[0m\u001b[0mww2_casualties\u001b[0m\u001b[0;34m.\u001b[0m\u001b[0mindex\u001b[0m\u001b[0;34m[\u001b[0m\u001b[0;36m3\u001b[0m\u001b[0;34m:\u001b[0m\u001b[0;34m]\u001b[0m\u001b[0;34m)\u001b[0m\u001b[0;34m\u001b[0m\u001b[0;34m\u001b[0m\u001b[0m\n\u001b[1;32m      9\u001b[0m \u001b[0;34m\u001b[0m\u001b[0m\n\u001b[0;32m---> 10\u001b[0;31m \u001b[0mww2_casualties\u001b[0m\u001b[0;34m.\u001b[0m\u001b[0mindex\u001b[0m\u001b[0;34m[\u001b[0m\u001b[0;36m4\u001b[0m\u001b[0;34m]\u001b[0m \u001b[0;34m=\u001b[0m \u001b[0;34m'PORTUGAL'\u001b[0m \u001b[0;31m# it is not possible to mutate an index, unless you use reindexing\u001b[0m\u001b[0;34m\u001b[0m\u001b[0;34m\u001b[0m\u001b[0m\n\u001b[0m",
      "\u001b[0;32m~/opt/anaconda3/lib/python3.7/site-packages/pandas/core/indexes/base.py\u001b[0m in \u001b[0;36m__setitem__\u001b[0;34m(self, key, value)\u001b[0m\n\u001b[1;32m   4258\u001b[0m \u001b[0;34m\u001b[0m\u001b[0m\n\u001b[1;32m   4259\u001b[0m     \u001b[0;32mdef\u001b[0m \u001b[0m__setitem__\u001b[0m\u001b[0;34m(\u001b[0m\u001b[0mself\u001b[0m\u001b[0;34m,\u001b[0m \u001b[0mkey\u001b[0m\u001b[0;34m,\u001b[0m \u001b[0mvalue\u001b[0m\u001b[0;34m)\u001b[0m\u001b[0;34m:\u001b[0m\u001b[0;34m\u001b[0m\u001b[0;34m\u001b[0m\u001b[0m\n\u001b[0;32m-> 4260\u001b[0;31m         \u001b[0;32mraise\u001b[0m \u001b[0mTypeError\u001b[0m\u001b[0;34m(\u001b[0m\u001b[0;34m\"Index does not support mutable operations\"\u001b[0m\u001b[0;34m)\u001b[0m\u001b[0;34m\u001b[0m\u001b[0;34m\u001b[0m\u001b[0m\n\u001b[0m\u001b[1;32m   4261\u001b[0m \u001b[0;34m\u001b[0m\u001b[0m\n\u001b[1;32m   4262\u001b[0m     \u001b[0;32mdef\u001b[0m \u001b[0m__getitem__\u001b[0m\u001b[0;34m(\u001b[0m\u001b[0mself\u001b[0m\u001b[0;34m,\u001b[0m \u001b[0mkey\u001b[0m\u001b[0;34m)\u001b[0m\u001b[0;34m:\u001b[0m\u001b[0;34m\u001b[0m\u001b[0;34m\u001b[0m\u001b[0m\n",
      "\u001b[0;31mTypeError\u001b[0m: Index does not support mutable operations"
     ]
    }
   ],
   "source": [
    "import numpy as np\n",
    "import pandas as pd\n",
    "from pandas import Series, DataFrame\n",
    "\n",
    "\n",
    "ww2_casualties = Series([27000000,23000000,8000000,6000000,400000], index=['USSR','CHINA','GERMANY','JAPAN','USA']) \n",
    " # This is an index with similar functions like arrays\n",
    "print(ww2_casualties.index[3:])\n",
    "\n",
    "ww2_casualties.index[4] = 'PORTUGAL' # it is not possible to mutate an index, unless you use reindexing"
   ]
  },
  {
   "cell_type": "code",
   "execution_count": 77,
   "metadata": {},
   "outputs": [
    {
     "name": "stdout",
     "output_type": "stream",
     "text": [
      "USSR       27000000\n",
      "CHINA      23000000\n",
      "GERMANY     8000000\n",
      "JAPAN       6000000\n",
      "USA          400000\n",
      "dtype: int64\n",
      "0        USA\n",
      "1        NaN\n",
      "2        NaN\n",
      "3        NaN\n",
      "4        NaN\n",
      "5     MEXICO\n",
      "6        NaN\n",
      "7        NaN\n",
      "8        NaN\n",
      "9        NaN\n",
      "10    CANADA\n",
      "11       NaN\n",
      "12       NaN\n",
      "13       NaN\n",
      "14       NaN\n",
      "dtype: object\n",
      "0        USA\n",
      "1        USA\n",
      "2        USA\n",
      "3        USA\n",
      "4        USA\n",
      "5     MEXICO\n",
      "6     MEXICO\n",
      "7     MEXICO\n",
      "8     MEXICO\n",
      "9     MEXICO\n",
      "10    CANADA\n",
      "11    CANADA\n",
      "12    CANADA\n",
      "13    CANADA\n",
      "14    CANADA\n",
      "dtype: object\n"
     ]
    }
   ],
   "source": [
    "import numpy as np\n",
    "import pandas as pd\n",
    "from pandas import Series, DataFrame\n",
    "from numpy.random import randn\n",
    "\n",
    "ww2_casualties = Series([27000000,23000000,8000000,6000000,400000], index=['USSR','CHINA','GERMANY','JAPAN','USA']) \n",
    "#If index value does not exists, it is set to null, but can be set to a default value with\n",
    "ww2_casualties.reindex(['RUS','CHN','GER','JPN','USA','ARG','ITA'], fill_value=0)\n",
    "print(ww2_casualties)\n",
    "\n",
    "ser = Series(['USA','MEXICO','CANADA'], index=[0,5,10])\n",
    "print(ser.reindex(range(15)))\n",
    "# It is possible to use different method to reindex and fill values, in this case ffill means forward fill\n",
    "print(ser.reindex(range(15), method='ffill'))"
   ]
  },
  {
   "cell_type": "code",
   "execution_count": 89,
   "metadata": {},
   "outputs": [
    {
     "name": "stdout",
     "output_type": "stream",
     "text": [
      "      col-1     col-2     col-3     col-4     col-5\n",
      "A  0.552209  0.208672  0.163548  0.044633  0.971535\n",
      "B  0.976579  0.689836  1.120965  0.252002 -2.379984\n",
      "C       NaN       NaN       NaN       NaN       NaN\n",
      "D -0.489085  0.768643  0.450048  1.226765  0.217771\n",
      "E  0.416990  0.482480  0.659299  0.039197  1.333168\n",
      "F  0.130276  0.273627  0.524254  1.035701  0.968843\n"
     ]
    },
    {
     "data": {
      "text/html": [
       "<div>\n",
       "<style scoped>\n",
       "    .dataframe tbody tr th:only-of-type {\n",
       "        vertical-align: middle;\n",
       "    }\n",
       "\n",
       "    .dataframe tbody tr th {\n",
       "        vertical-align: top;\n",
       "    }\n",
       "\n",
       "    .dataframe thead th {\n",
       "        text-align: right;\n",
       "    }\n",
       "</style>\n",
       "<table border=\"1\" class=\"dataframe\">\n",
       "  <thead>\n",
       "    <tr style=\"text-align: right;\">\n",
       "      <th></th>\n",
       "      <th>col-1</th>\n",
       "      <th>col-2</th>\n",
       "      <th>col-3</th>\n",
       "      <th>col-4</th>\n",
       "      <th>col-5</th>\n",
       "      <th>col-6</th>\n",
       "    </tr>\n",
       "  </thead>\n",
       "  <tbody>\n",
       "    <tr>\n",
       "      <td>A</td>\n",
       "      <td>0.552209</td>\n",
       "      <td>0.208672</td>\n",
       "      <td>0.163548</td>\n",
       "      <td>0.044633</td>\n",
       "      <td>0.971535</td>\n",
       "      <td>NaN</td>\n",
       "    </tr>\n",
       "    <tr>\n",
       "      <td>B</td>\n",
       "      <td>0.976579</td>\n",
       "      <td>0.689836</td>\n",
       "      <td>1.120965</td>\n",
       "      <td>0.252002</td>\n",
       "      <td>-2.379984</td>\n",
       "      <td>NaN</td>\n",
       "    </tr>\n",
       "    <tr>\n",
       "      <td>C</td>\n",
       "      <td>NaN</td>\n",
       "      <td>NaN</td>\n",
       "      <td>NaN</td>\n",
       "      <td>NaN</td>\n",
       "      <td>NaN</td>\n",
       "      <td>NaN</td>\n",
       "    </tr>\n",
       "    <tr>\n",
       "      <td>D</td>\n",
       "      <td>-0.489085</td>\n",
       "      <td>0.768643</td>\n",
       "      <td>0.450048</td>\n",
       "      <td>1.226765</td>\n",
       "      <td>0.217771</td>\n",
       "      <td>NaN</td>\n",
       "    </tr>\n",
       "    <tr>\n",
       "      <td>E</td>\n",
       "      <td>0.416990</td>\n",
       "      <td>0.482480</td>\n",
       "      <td>0.659299</td>\n",
       "      <td>0.039197</td>\n",
       "      <td>1.333168</td>\n",
       "      <td>NaN</td>\n",
       "    </tr>\n",
       "    <tr>\n",
       "      <td>F</td>\n",
       "      <td>0.130276</td>\n",
       "      <td>0.273627</td>\n",
       "      <td>0.524254</td>\n",
       "      <td>1.035701</td>\n",
       "      <td>0.968843</td>\n",
       "      <td>NaN</td>\n",
       "    </tr>\n",
       "  </tbody>\n",
       "</table>\n",
       "</div>"
      ],
      "text/plain": [
       "      col-1     col-2     col-3     col-4     col-5  col-6\n",
       "A  0.552209  0.208672  0.163548  0.044633  0.971535    NaN\n",
       "B  0.976579  0.689836  1.120965  0.252002 -2.379984    NaN\n",
       "C       NaN       NaN       NaN       NaN       NaN    NaN\n",
       "D -0.489085  0.768643  0.450048  1.226765  0.217771    NaN\n",
       "E  0.416990  0.482480  0.659299  0.039197  1.333168    NaN\n",
       "F  0.130276  0.273627  0.524254  1.035701  0.968843    NaN"
      ]
     },
     "execution_count": 89,
     "metadata": {},
     "output_type": "execute_result"
    }
   ],
   "source": [
    "dframe = DataFrame(randn(25).reshape((5,5)), index=['A','B','D','E','F'],\n",
    "                   columns= ['col-1','col-2','col-3','col-4','col-5'])\n",
    "# We forgot column C so we reindex, values of the 3rd colum will still be assigned to D as they were\n",
    "# originally assigned, row 'C' will be filled with nulls unless we pass a default value\n",
    "dframe2 =dframe.reindex(index=['A','B','C','D','E','F'])\n",
    "print(dframe2)\n",
    "\n",
    "# we can also reindex columns, as with the rows, previously non-existing columns will be filled with nulls\n",
    "dframe2.reindex(columns=['col-1','col-2','col-3','col-4','col-5', 'col-6'])"
   ]
  },
  {
   "cell_type": "markdown",
   "metadata": {},
   "source": [
    "## Dropping Series and Dataframes"
   ]
  },
  {
   "cell_type": "code",
   "execution_count": 97,
   "metadata": {},
   "outputs": [
    {
     "name": "stdout",
     "output_type": "stream",
     "text": [
      "    pop  size  year\n",
      "SF    0     1     2\n",
      "NY    3     4     5\n",
      "    pop  size\n",
      "SF    0     1\n",
      "NY    3     4\n",
      "LA    6     7\n"
     ]
    }
   ],
   "source": [
    "import numpy as np\n",
    "import pandas as pd\n",
    "from pandas import Series, DataFrame\n",
    "from numpy.random import randn\n",
    "\n",
    "serie1 = Series(np.arange(3), ['A','B','C'])\n",
    "\n",
    "# To drop an index, just call drop on your serie and pass the object to drop 'index label'\n",
    "serie1.drop('A')\n",
    "\n",
    "dframe1 = DataFrame(np.arange(9).reshape([3,3]), index=['SF','NY','LA'], columns=['pop','size','year'])\n",
    "\n",
    "# Similar than with series, to drop a column or row on a dataframe, pass the object to drop\n",
    "# Drop does not modify the original dataframe\n",
    "print(dframe1.drop('LA')) # Drop a Row\n",
    "print(dframe1.drop('year', axis=1)) # Axis 0 represents X axis, and it is the default, like the above, axis 1 is y\n",
    "\n"
   ]
  },
  {
   "cell_type": "markdown",
   "metadata": {},
   "source": [
    "## Selecting Series and Dataframes"
   ]
  },
  {
   "cell_type": "code",
   "execution_count": 119,
   "metadata": {},
   "outputs": [
    {
     "name": "stdout",
     "output_type": "stream",
     "text": [
      "2\n",
      "2\n",
      "B    2\n",
      "C    4\n",
      "dtype: int64\n",
      "B    2\n",
      "C    4\n",
      "dtype: int64\n",
      "pop     0\n",
      "size    1\n",
      "year    2\n",
      "Name: SF, dtype: int64\n",
      "    pop  year\n",
      "SF    0     2\n",
      "NY    3     5\n",
      "LA    6     8\n",
      "    pop  size  year\n",
      "LA    6     7     8\n"
     ]
    }
   ],
   "source": [
    "import numpy as np\n",
    "import pandas as pd\n",
    "from pandas import Series, DataFrame\n",
    "from numpy.random import randn\n",
    "\n",
    "serie1 = Series(np.arange(3), ['A','B','C'])\n",
    "serie2 = 2*serie1\n",
    "\n",
    "# Selecting values can be done \n",
    "print(serie2['B']) # by index \n",
    "print(serie2[1]) # by numerical value\n",
    "print(serie2[1:]) # by slice\n",
    "print(serie2[serie2 >1 ]) # by condition \n",
    "# We can use condition to this can also be used to set values)\n",
    "\n",
    "dframe1 = DataFrame(np.arange(9).reshape([3,3]), index=['SF','NY','LA'], columns=['pop','size','year'])\n",
    "print(dframe1.loc['SF']) # by row\n",
    "print(dframe1[['pop', 'year']]) # by column\n",
    "print(dframe1[dframe1['pop'] >4]) # by condition"
   ]
  },
  {
   "cell_type": "markdown",
   "metadata": {},
   "source": [
    "# Data Alignment"
   ]
  },
  {
   "cell_type": "code",
   "execution_count": 10,
   "metadata": {},
   "outputs": [
    {
     "name": "stdout",
     "output_type": "stream",
     "text": [
      "A    3.0\n",
      "B    5.0\n",
      "C    7.0\n",
      "D    NaN\n",
      "dtype: float64\n",
      "A    3.0\n",
      "B    5.0\n",
      "C    7.0\n",
      "D    6.0\n",
      "dtype: float64\n",
      "      A    B   C\n",
      "LA  0.0  2.0 NaN\n",
      "NY  5.0  7.0 NaN\n",
      "SF  NaN  NaN NaN\n",
      "      A    B    C\n",
      "LA  0.0  2.0  2.0\n",
      "NY  5.0  7.0  5.0\n",
      "SF  6.0  7.0  8.0\n",
      "    A  B   C\n",
      "LA  0  0 NaN\n",
      "NY  2  2 NaN\n"
     ]
    }
   ],
   "source": [
    "import numpy as np\n",
    "import pandas as pd\n",
    "from pandas import Series, DataFrame\n",
    "\n",
    "ser1 = Series([0,1,2], index=['A','B','C'])\n",
    "ser2 = Series([3,4,5,6], index=['A','B','C','D'])\n",
    "\n",
    "print(ser1 + ser2) # When the series doesn't have a value matching it sets it up to NaN\n",
    "print(ser1.add(ser2, fill_value=0)) # This puts a 0 in the dFrame1 values that are not filled\n",
    "\n",
    "dFrame1 = DataFrame(np.arange(4).reshape((2,2)), columns=list('AB'), index=['LA','NY'])\n",
    "dFrame2 = DataFrame(np.arange(9).reshape((3,3)), columns=list('ABC'), index=['LA','NY','SF'])\n",
    "\n",
    "print(dFrame1+dFrame2)\n",
    "print(dFrame1.add(dFrame2, fill_value=0)) # This puts a 0 in the dFrame1 values that are not filled\n",
    "\n",
    "print(dFrame1-ser1) # It is possible to do arithmetic operations with DataFrames and Series if they share labels"
   ]
  },
  {
   "cell_type": "markdown",
   "metadata": {},
   "source": [
    "## Ranking and Sorting"
   ]
  },
  {
   "cell_type": "code",
   "execution_count": 21,
   "metadata": {},
   "outputs": [
    {
     "name": "stdout",
     "output_type": "stream",
     "text": [
      "A    2\n",
      "B    1\n",
      "C    0\n",
      "dtype: int64\n",
      "6   -2.437268\n",
      "2   -1.004940\n",
      "5   -0.869345\n",
      "3    0.036335\n",
      "9    0.155938\n",
      "7    0.471115\n",
      "0    0.473356\n",
      "4    0.705921\n",
      "8    1.116581\n",
      "1    1.241325\n",
      "dtype: float64\n",
      "6     1.0\n",
      "2     2.0\n",
      "5     3.0\n",
      "3     4.0\n",
      "9     5.0\n",
      "7     6.0\n",
      "0     7.0\n",
      "4     8.0\n",
      "8     9.0\n",
      "1    10.0\n",
      "dtype: float64\n"
     ]
    }
   ],
   "source": [
    "import numpy as np\n",
    "import pandas as pd\n",
    "from pandas import Series, DataFrame\n",
    "from numpy.random import randn\n",
    "\n",
    "ser1 = Series([0,2,1], index=['C','A','B'])\n",
    "print(ser1.sort_index()) # Sort the series using the index, the original series remain unchanged\n",
    "\n",
    "ser2 = Series(randn(10)).sort_values()\n",
    "print(ser2) # Sort the series using the values, the original series remain unchanged\n",
    "print(ser2.rank()) # Creates a Serie with value being the index and index being the rank\n"
   ]
  },
  {
   "cell_type": "markdown",
   "metadata": {},
   "source": [
    "## Summary Statistics"
   ]
  },
  {
   "cell_type": "code",
   "execution_count": 40,
   "metadata": {},
   "outputs": [
    {
     "name": "stdout",
     "output_type": "stream",
     "text": [
      "     A    B    C\n",
      "A  1.0  2.0  NaN\n",
      "B  NaN  5.0  6.0\n",
      "A    1.0\n",
      "B    7.0\n",
      "C    6.0\n",
      "dtype: float64\n",
      "A     3.0\n",
      "B    11.0\n",
      "dtype: float64\n",
      "Minimum value in the DF:\n",
      "A    1.0\n",
      "B    2.0\n",
      "C    6.0\n",
      "dtype: float64, \n",
      "maxium:\n",
      "A    1.0\n",
      "B    5.0\n",
      "C    6.0\n",
      "dtype: float64\n",
      "Minimum value in the DF occurred in the column:A    A\n",
      "B    A\n",
      "C    B\n",
      "dtype: object\n",
      "     A    B    C\n",
      "A  1.0  2.0  NaN\n",
      "B  NaN  7.0  6.0\n",
      "         A        B    C\n",
      "count  1.0  2.00000  1.0\n",
      "mean   1.0  3.50000  6.0\n",
      "std    NaN  2.12132  NaN\n",
      "min    1.0  2.00000  6.0\n",
      "25%    1.0  2.75000  6.0\n",
      "50%    1.0  3.50000  6.0\n",
      "75%    1.0  4.25000  6.0\n",
      "max    1.0  5.00000  6.0\n",
      "     A    B    C\n",
      "A  1.0  2.0  NaN\n",
      "B  NaN  5.0  6.0\n"
     ]
    },
    {
     "data": {
      "image/jpeg": "[encoded data removed]",
      "text/html": [
       "\n",
       "        <iframe\n",
       "            width=\"400\"\n",
       "            height=\"300\"\n",
       "            src=\"https://www.youtube.com/embed/xGbpuFNR1ME\"\n",
       "            frameborder=\"0\"\n",
       "            allowfullscreen\n",
       "        ></iframe>\n",
       "        "
      ],
      "text/plain": [
       "<IPython.lib.display.YouTubeVideo at 0x121f1e890>"
      ]
     },
     "execution_count": 40,
     "metadata": {},
     "output_type": "execute_result"
    }
   ],
   "source": [
    "import numpy as np\n",
    "import pandas as pd\n",
    "from pandas import Series, DataFrame\n",
    "\n",
    "df1 = DataFrame(np.array([[1,2,np.NaN], [np.NaN,5,6]]), index=list('AB'), columns=['A','B','C'])\n",
    "print(df1)\n",
    "\n",
    "print(df1.sum()) # Sums all the values per column in the DataFrame ignoring nulls (axis default to x=0)\n",
    "print(df1.sum(axis=1)) # Sums all the values per row in the DataFrame\n",
    "print('Minimum value in the DF:\\n{}, \\nmaxium:\\n{}'.format(df1.min(), df1.max()))\n",
    "print('Minimum value in the DF occurred in the column:{}'.format(df1.idxmin()))\n",
    "print(df1.cumsum()) # Acumulation sum, row 1 is sum with row 2 and the result is sum in row 3 and so on and on...\n",
    "print(df1.describe()) # Provides summary statistics in your dataframe\n",
    "print(df1) # correlation and covariance in your dataframe\n"
   ]
  },
  {
   "cell_type": "code",
   "execution_count": 28,
   "metadata": {},
   "outputs": [
    {
     "ename": "AttributeError",
     "evalue": "'Series' object has no attribute 'value_count'",
     "output_type": "error",
     "traceback": [
      "\u001b[0;31m---------------------------------------------------------------------------\u001b[0m",
      "\u001b[0;31mAttributeError\u001b[0m                            Traceback (most recent call last)",
      "\u001b[0;32m<ipython-input-28-2269332fe2bb>\u001b[0m in \u001b[0;36m<module>\u001b[0;34m\u001b[0m\n\u001b[1;32m     24\u001b[0m \u001b[0mser1\u001b[0m \u001b[0;34m=\u001b[0m \u001b[0mSeries\u001b[0m\u001b[0;34m(\u001b[0m\u001b[0;34m[\u001b[0m\u001b[0;34m'w'\u001b[0m\u001b[0;34m,\u001b[0m\u001b[0;34m'w'\u001b[0m\u001b[0;34m,\u001b[0m\u001b[0;34m'x'\u001b[0m\u001b[0;34m,\u001b[0m\u001b[0;34m'y'\u001b[0m\u001b[0;34m,\u001b[0m\u001b[0;34m'z'\u001b[0m\u001b[0;34m,\u001b[0m\u001b[0;34m'w'\u001b[0m\u001b[0;34m,\u001b[0m\u001b[0;34m'x'\u001b[0m\u001b[0;34m,\u001b[0m\u001b[0;34m'a'\u001b[0m\u001b[0;34m]\u001b[0m\u001b[0;34m)\u001b[0m\u001b[0;34m\u001b[0m\u001b[0;34m\u001b[0m\u001b[0m\n\u001b[1;32m     25\u001b[0m \u001b[0mser1\u001b[0m\u001b[0;34m.\u001b[0m\u001b[0munique\u001b[0m\u001b[0;34m(\u001b[0m\u001b[0;34m)\u001b[0m \u001b[0;31m# Returns unique records\u001b[0m\u001b[0;34m\u001b[0m\u001b[0;34m\u001b[0m\u001b[0m\n\u001b[0;32m---> 26\u001b[0;31m \u001b[0mser1\u001b[0m\u001b[0;34m.\u001b[0m\u001b[0mvalue_count\u001b[0m\u001b[0;34m(\u001b[0m\u001b[0;34m)\u001b[0m\u001b[0;34m\u001b[0m\u001b[0;34m\u001b[0m\u001b[0m\n\u001b[0m",
      "\u001b[0;32m~/opt/anaconda3/lib/python3.7/site-packages/pandas/core/generic.py\u001b[0m in \u001b[0;36m__getattr__\u001b[0;34m(self, name)\u001b[0m\n\u001b[1;32m   5177\u001b[0m             \u001b[0;32mif\u001b[0m \u001b[0mself\u001b[0m\u001b[0;34m.\u001b[0m\u001b[0m_info_axis\u001b[0m\u001b[0;34m.\u001b[0m\u001b[0m_can_hold_identifiers_and_holds_name\u001b[0m\u001b[0;34m(\u001b[0m\u001b[0mname\u001b[0m\u001b[0;34m)\u001b[0m\u001b[0;34m:\u001b[0m\u001b[0;34m\u001b[0m\u001b[0;34m\u001b[0m\u001b[0m\n\u001b[1;32m   5178\u001b[0m                 \u001b[0;32mreturn\u001b[0m \u001b[0mself\u001b[0m\u001b[0;34m[\u001b[0m\u001b[0mname\u001b[0m\u001b[0;34m]\u001b[0m\u001b[0;34m\u001b[0m\u001b[0;34m\u001b[0m\u001b[0m\n\u001b[0;32m-> 5179\u001b[0;31m             \u001b[0;32mreturn\u001b[0m \u001b[0mobject\u001b[0m\u001b[0;34m.\u001b[0m\u001b[0m__getattribute__\u001b[0m\u001b[0;34m(\u001b[0m\u001b[0mself\u001b[0m\u001b[0;34m,\u001b[0m \u001b[0mname\u001b[0m\u001b[0;34m)\u001b[0m\u001b[0;34m\u001b[0m\u001b[0;34m\u001b[0m\u001b[0m\n\u001b[0m\u001b[1;32m   5180\u001b[0m \u001b[0;34m\u001b[0m\u001b[0m\n\u001b[1;32m   5181\u001b[0m     \u001b[0;32mdef\u001b[0m \u001b[0m__setattr__\u001b[0m\u001b[0;34m(\u001b[0m\u001b[0mself\u001b[0m\u001b[0;34m,\u001b[0m \u001b[0mname\u001b[0m\u001b[0;34m,\u001b[0m \u001b[0mvalue\u001b[0m\u001b[0;34m)\u001b[0m\u001b[0;34m:\u001b[0m\u001b[0;34m\u001b[0m\u001b[0;34m\u001b[0m\u001b[0m\n",
      "\u001b[0;31mAttributeError\u001b[0m: 'Series' object has no attribute 'value_count'"
     ]
    },
    {
     "data": {
      "image/png": "[encoded data removed]",
      "text/plain": [
       "<Figure size 432x288 with 1 Axes>"
      ]
     },
     "metadata": {
      "needs_background": "light"
     },
     "output_type": "display_data"
    }
   ],
   "source": [
    "import numpy as np\n",
    "import pandas as pd\n",
    "from IPython.display import display\n",
    "from pandas import Series, DataFrame\n",
    "from IPython.display import YouTubeVideo\n",
    "from pandas_datareader import data as pdweb\n",
    "import datetime\n",
    "\n",
    "# \n",
    "YouTubeVideo('xGbpuFNR1ME')\n",
    "\n",
    "prices = pdweb.get_data_yahoo(['CVX','XOM','BP'], start=datetime.datetime(2010,1,1),end=datetime.datetime(2013,1,1))['Adj Close']\n",
    "\n",
    "volume = pdweb.get_data_yahoo(['CVX','XOM','BP'],  start=datetime.datetime(2010,1,1),end=datetime.datetime(2013,1,1))['Volume']\n",
    "\n",
    "rets = prices.pct_change() # Returns the percentage change in prices for the dates\n",
    "\n",
    "# Correlations of the stocks\n",
    "corr = rets.corr\n",
    "\n",
    "%matplotlib inline\n",
    "prices.plot()\n",
    "\n",
    "ser1 = Series(['w','w','x','y','z','w','x','a'])\n",
    "ser1.unique() # Returns unique records\n",
    "ser1.value_counts() # Returns the number of each values"
   ]
  },
  {
   "cell_type": "markdown",
   "metadata": {},
   "source": [
    "## Missing Data"
   ]
  },
  {
   "cell_type": "code",
   "execution_count": 40,
   "metadata": {},
   "outputs": [
    {
     "name": "stdout",
     "output_type": "stream",
     "text": [
      "0    False\n",
      "1    False\n",
      "2     True\n",
      "3    False\n",
      "dtype: bool\n",
      "0     one\n",
      "1     two\n",
      "3    four\n",
      "dtype: object\n",
      "     0    1    2\n",
      "0  1.0  2.0  3.0\n",
      "1  NaN  5.0  6.0\n",
      "2  7.0  NaN  9.0\n",
      "3  NaN  NaN  NaN\n",
      "     0    1    2\n",
      "0  1.0  2.0  3.0\n",
      "     0    1    2\n",
      "0  1.0  2.0  3.0\n",
      "1  NaN  5.0  6.0\n",
      "2  7.0  NaN  9.0\n",
      "     0    1    2\n",
      "0  1.0  2.0  3.0\n",
      "1  NaN  5.0  6.0\n",
      "2  7.0  NaN  9.0\n",
      "     0    1    2\n",
      "0  1.0  2.0  3.0\n",
      "1 -1.0  5.0  6.0\n",
      "2  7.0 -1.0  9.0\n",
      "3 -1.0 -1.0 -1.0\n",
      "     0    1    2\n",
      "0  1.0  2.0  3.0\n",
      "1 -1.0  5.0  6.0\n",
      "2  7.0  0.0  9.0\n",
      "3 -1.0  0.0  0.0\n",
      "     0    1    2\n",
      "0  1.0  2.0  3.0\n",
      "1 -1.0  5.0  6.0\n",
      "2  7.0 -1.0  9.0\n",
      "3 -1.0 -1.0 -1.0\n"
     ]
    }
   ],
   "source": [
    "import numpy as np\n",
    "import pandas as pd\n",
    "from pandas import Series, DataFrame\n",
    "\n",
    "data = Series(['one', 'two', np.NaN, 'four'])\n",
    "print(data.isnull()) # Tells you which data is missing\n",
    "print(data.dropna()) # Removes null values\n",
    "\n",
    "dframe = DataFrame([[1,2,3],[np.NaN,5,6],[7,np.nan,9],[np.nan,np.nan,np.nan]])\n",
    "print(dframe)              \n",
    "print(dframe.dropna()) # removes rows that has null values\n",
    "print(dframe.dropna(how='all')) # removes rows that has all null values\n",
    "print(dframe.dropna(thresh=2)) # removes rows that has at least 2 values\n",
    "print(dframe.fillna(-1)) # Fills the null values with -1\n",
    "print(dframe.fillna({0:-1,1:0,2:0,3:-1})) # Fills the null values with different values depending on the column index\n",
    "dframe.fillna(-1, inplace=True) # Fills the null values with 0 in place\n",
    "print(dframe)"
   ]
  },
  {
   "cell_type": "markdown",
   "metadata": {},
   "source": [
    "## Index Hierarchy"
   ]
  },
  {
   "cell_type": "code",
   "execution_count": 68,
   "metadata": {},
   "outputs": [
    {
     "name": "stdout",
     "output_type": "stream",
     "text": [
      "1  a    0.926089\n",
      "   b   -0.195358\n",
      "   c   -1.137102\n",
      "2  a   -1.410445\n",
      "   b   -0.478555\n",
      "   c   -0.128981\n",
      "dtype: float64\n",
      "MultiIndex([(1, 'a'),\n",
      "            (1, 'b'),\n",
      "            (1, 'c'),\n",
      "            (2, 'a'),\n",
      "            (2, 'b'),\n",
      "            (2, 'c')],\n",
      "           )\n",
      "a    0.926089\n",
      "b   -0.195358\n",
      "c   -1.137102\n",
      "dtype: float64\n",
      "a   -1.410445\n",
      "b   -0.478555\n",
      "c   -0.128981\n",
      "dtype: float64\n",
      "1    0.926089\n",
      "2   -1.410445\n",
      "dtype: float64\n",
      "          a         b         c\n",
      "1  0.926089 -0.195358 -1.137102\n",
      "2 -1.410445 -0.478555 -0.128981\n",
      "CITIES           LA  NY      TX\n",
      "ORDER             1   1   2   2\n",
      "INDEX_1 INDEX_2                \n",
      "B       1         0   1   2   3\n",
      "A       2         4   5   6   7\n",
      "C       1         8   9  10  11\n",
      "D       2        12  13  14  15\n",
      "CITIES           LA  NY      TX\n",
      "ORDER             1   1   2   2\n",
      "INDEX_1 INDEX_2                \n",
      "B       1         0   1   2   3\n",
      "A       2         4   5   6   7\n",
      "C       1         8   9  10  11\n",
      "D       2        12  13  14  15\n",
      "CITIES           LA  NY      TX\n",
      "ORDER             1   1   2   2\n",
      "INDEX_1 INDEX_2                \n",
      "B       1         0   1   2   3\n",
      "A       2         4   5   6   7\n",
      "C       1         8   9  10  11\n",
      "D       2        12  13  14  15\n",
      "ORDER             1   2\n",
      "INDEX_1 INDEX_2        \n",
      "B       1         1   5\n",
      "A       2         9  13\n",
      "C       1        17  21\n",
      "D       2        25  29\n"
     ]
    }
   ],
   "source": [
    "import numpy as np\n",
    "import pandas as pd\n",
    "from pandas import Series, DataFrame\n",
    "from numpy.random import randn\n",
    "\n",
    "ser = Series(randn(6), index=[[1,1,1,2,2,2],['a','b','c','a','b','c']]) # creates two index levels\n",
    "print(ser)\n",
    "print(ser.index) \n",
    "print(ser[1]) # Returns the values corresponding to the value 1 of the first index\n",
    "print(ser[2]) # Returns the values corresponding to the value 2 of the first index\n",
    "print(ser[:,'a']) # Returns the values corresponding to the value 'a' of the second index\n",
    "\n",
    "print(ser.unstack()) # Reshapes the serie into a matrix\n",
    "df = DataFrame(np.arange(16).reshape((4,4)), index=[list('BACD'),  [1,2,1,2]], \n",
    "                    columns=[['LA','NY','NY','TX'],[1,1,2,2]])\n",
    "\n",
    "# To keep track of the levels you can name your indexes\n",
    "df.index.names = ['INDEX_1','INDEX_2']\n",
    "df.columns.names = ['CITIES', 'ORDER']\n",
    "print(df) # Similar to series, there is a hierarchy of nested index\n",
    "\n",
    "df.swaplevel('ORDER','CITIES',  axis=1) # Swaps the level of two indexes\n",
    "print(df)\n",
    "\n",
    "print(df.sort_index(1)) # sort the level index at position 1\n",
    "print(df.sum(level='ORDER', axis=1)) # Accumulate sum on the order column (axis 1)"
   ]
  },
  {
   "cell_type": "code",
   "execution_count": null,
   "metadata": {},
   "outputs": [],
   "source": []
  }
 ],
 "metadata": {
  "kernelspec": {
   "display_name": "Python 3",
   "language": "python",
   "name": "python3"
  },
  "language_info": {
   "codemirror_mode": {
    "name": "ipython",
    "version": 3
   },
   "file_extension": ".py",
   "mimetype": "text/x-python",
   "name": "python",
   "nbconvert_exporter": "python",
   "pygments_lexer": "ipython3",
   "version": "3.7.4"
  }
 },
 "nbformat": 4,
 "nbformat_minor": 2
}
