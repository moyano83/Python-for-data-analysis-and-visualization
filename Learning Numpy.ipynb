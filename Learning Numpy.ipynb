{
 "cells": [
  {
   "cell_type": "markdown",
   "metadata": {},
   "source": [
    "# Creating arrays"
   ]
  },
  {
   "cell_type": "code",
   "execution_count": 2,
   "metadata": {},
   "outputs": [
    {
     "name": "stdout",
     "output_type": "stream",
     "text": [
      "(2, 4)\n",
      "<U21\n",
      "[0. 0. 0.]\n",
      "[[1. 0. 0.]\n",
      " [0. 1. 0.]\n",
      " [0. 0. 1.]]\n",
      "[0 1 2 3]\n",
      "[0 2 4 6 8]\n"
     ]
    }
   ],
   "source": [
    "import numpy as np\n",
    "my_list1 = [1,2,3,4]\n",
    "np.array(my_list1) # create an array from a list\n",
    "my_list2 = ['a','b','c','d']\n",
    "lists = [my_list1, my_list2]\n",
    "\n",
    "md_array = np.array(lists) # multi-dimensional array\n",
    "print(md_array.shape) # Returns number of elements and size\n",
    "print(md_array.dtype) # Returns the data type\n",
    "print(np.zeros(3)) # Creates an array of size 3 with 0s\n",
    "print(np.eye(3)) # Creates an identity matrix of size 3\n",
    "print(np.arange(4)) # Creates an array that start on 0 and increments up to the number passed (not included)\n",
    "print(np.arange(0,10,2)) # Creates an array that start on 2 and increments by 2 up to 10 (not included)\n"
   ]
  },
  {
   "cell_type": "markdown",
   "metadata": {},
   "source": [
    "# Using Arrays and Scalars"
   ]
  },
  {
   "cell_type": "code",
   "execution_count": 3,
   "metadata": {},
   "outputs": [
    {
     "name": "stdout",
     "output_type": "stream",
     "text": [
      "[[ 1  4  9 16]\n",
      " [25 36 49 64]]\n",
      "[[0 0 0 0]\n",
      " [0 0 0 0]]\n",
      "[[1.         0.5        0.33333333 0.25      ]\n",
      " [0.2        0.16666667 0.14285714 0.125     ]]\n",
      "[[  1   8  27  64]\n",
      " [125 216 343 512]]\n"
     ]
    }
   ],
   "source": [
    "from __future__ import division # Already imported in python 3.x\n",
    "array1 = np.array(([1,2,3,4],[5,6,7,8]))\n",
    "print(array1 * array1) # Array multiplication\n",
    "print(array1 - array1) # Array substraction\n",
    "print(1 / array1) # Array inversion\n",
    "print(array1 ** 3) # Array power"
   ]
  },
  {
   "cell_type": "markdown",
   "metadata": {},
   "source": [
    "# Indexing Arrays"
   ]
  },
  {
   "cell_type": "code",
   "execution_count": 8,
   "metadata": {},
   "outputs": [
    {
     "name": "stdout",
     "output_type": "stream",
     "text": [
      "0\n",
      "[1 2 3 4]\n",
      "[100 100 100 100 100   5   6   7   8   9]\n",
      "[[0. 0. 0. 0. 0.]\n",
      " [1. 1. 1. 1. 1.]\n",
      " [2. 2. 2. 2. 2.]\n",
      " [3. 3. 3. 3. 3.]\n",
      " [4. 4. 4. 4. 4.]]\n"
     ]
    }
   ],
   "source": [
    "arr1 = np.arange(0,10,1)\n",
    "print(arr1[0]) # Indexing is provided in arrays\n",
    "print(arr1[1:5]) # Slicing in an array, if this slice is modified,\n",
    "                 # the original array would be modified too as it is just a view of the data\n",
    "                 # use arr.copy to avoid modofying the original array\n",
    "\n",
    "# It is also possible to assign values\n",
    "arr1[0:5] = 100\n",
    "print(arr1)\n",
    "\n",
    "arr_zeros=np.zeros([5,5])\n",
    "for i in range(arr_zeros.shape[1]):\n",
    "    arr_zeros[i]=i # Fancy indexing, takes the whole row and set it to the index\n",
    "print(arr_zeros)"
   ]
  },
  {
   "cell_type": "markdown",
   "metadata": {},
   "source": [
    "# Transponding Arrays"
   ]
  },
  {
   "cell_type": "code",
   "execution_count": 22,
   "metadata": {},
   "outputs": [
    {
     "name": "stdout",
     "output_type": "stream",
     "text": [
      "[[7125 7350 7575 7800 8025]\n",
      " [7350 7585 7820 8055 8290]\n",
      " [7575 7820 8065 8310 8555]\n",
      " [7800 8055 8310 8565 8820]\n",
      " [8025 8290 8555 8820 9085]]\n",
      "[[0]\n",
      " [1]\n",
      " [2]]\n"
     ]
    }
   ],
   "source": [
    "import numpy as np\n",
    "\n",
    "arr1 = np.arange(50).reshape((10,5))\n",
    "print(np.dot(arr1.T, arr1)) # arr.T transposes the array\n",
    "\n",
    "arr2 = np.array([[0,1,2]])\n",
    "print(arr2.swapaxes(0,1))"
   ]
  },
  {
   "cell_type": "markdown",
   "metadata": {},
   "source": [
    "# Array Functions"
   ]
  },
  {
   "cell_type": "code",
   "execution_count": 32,
   "metadata": {},
   "outputs": [
    {
     "name": "stdout",
     "output_type": "stream",
     "text": [
      "[ 2.35249491 -0.6530325   0.70594885 -0.51960414 -1.66095952  0.57001786\n",
      "  0.57123204 -1.36668213 -1.13206717  0.42438133]\n",
      "[-0.11190086  1.39098061  1.09688074 -1.78393364  1.42342067 -0.45150332\n",
      " -0.44678232 -0.13897007  0.62358338  1.58469901]\n",
      "[ 2.24059405  0.73794812  1.80282959 -2.30353777 -0.23753885  0.11851454\n",
      "  0.12444972 -1.5056522  -0.50848379  2.00908034]\n",
      "[ 2.35249491  1.39098061  1.09688074 -0.51960414  1.42342067  0.57001786\n",
      "  0.57123204 -0.13897007  0.62358338  1.58469901]\n"
     ]
    }
   ],
   "source": [
    "import numpy as np\n",
    "\n",
    "arr1 = np.arange(50).reshape((10,5))\n",
    "\n",
    "np.sqrt(arr1) # square value of each value in the array\n",
    "np.exp(arr1) # e to the power of the number in the array\n",
    "\n",
    "\n",
    "A = np.random.randn(10)\n",
    "B = np.random.randn(10)\n",
    "print(A)\n",
    "print(B)\n",
    "# Binary functions\n",
    "print(np.add(A,B)) # Adds every value of A and B\n",
    "print(np.maximum(A,B)) # Finds the maximum of the two values\n",
    "print(np.minimum(A,B)) # Finds the minimum of the two values"
   ]
  },
  {
   "cell_type": "markdown",
   "metadata": {},
   "source": [
    "# Array Processing"
   ]
  },
  {
   "cell_type": "code",
   "execution_count": 41,
   "metadata": {},
   "outputs": [
    {
     "data": {
      "text/plain": [
       "Text(0.5, 1.0, 'Plot for sin of x and y')"
      ]
     },
     "execution_count": 41,
     "metadata": {},
     "output_type": "execute_result"
    },
    {
     "data": {
      "image/png": "[encoded data removed]",
      "text/plain": [
       "<Figure size 432x288 with 2 Axes>"
      ]
     },
     "metadata": {
      "needs_background": "light"
     },
     "output_type": "display_data"
    }
   ],
   "source": [
    "import numpy as np\n",
    "import matplotlib.pyplot as plt\n",
    "\n",
    "points = np.arange(-5,5,0.1)\n",
    "\n",
    "dx,dy = np.meshgrid(points, points) # Return vectors coordinates\n",
    "\n",
    "z = (np.sin(dx) + np.sin(dy))\n",
    "plt.imshow(z)\n",
    "plt.colorbar()\n",
    "\n",
    "plt.title(\"Plot for sin of x and y\")"
   ]
  },
  {
   "cell_type": "code",
   "execution_count": 58,
   "metadata": {},
   "outputs": [
    {
     "name": "stdout",
     "output_type": "stream",
     "text": [
      "[0, 1, 2, 300, 400]\n",
      "[  0   1   2 300 400]\n"
     ]
    },
    {
     "data": {
      "text/plain": [
       "array([False,  True])"
      ]
     },
     "execution_count": 58,
     "metadata": {},
     "output_type": "execute_result"
    }
   ],
   "source": [
    "A = np.array([0,1,2,3,4])\n",
    "B = np.array([0,100,200,300,400])\n",
    "C = np.array([True, True, True,False, False])\n",
    "\n",
    "answers = [A_val if con else B_val for A_val,B_val,con in zip(A,B,C)] \n",
    "print(answers)\n",
    "# The following is equivalente to the above\n",
    "answers2 = np.where(C,A,B)\n",
    "print(answers2)\n",
    "\n",
    "arr = np.array([[1,2,3],[4,5,6],[7,8,9]])\n",
    "arr.sum() # You can pass the axis as arr.sum(0) to add all values on column 0\n",
    "arr.std() # Standard deviation\n",
    "arr.var() # Variance\n",
    "booleans = np.array([True, False])\n",
    "booleans.any() # True if any is true\n",
    "booleans.all() # True if all true\n",
    "\n",
    "countries = np.array(['France', 'Spain', 'Portugal'])\n",
    "np.unique(countries) # Return unique values\n",
    "np.in1d(['Sweden', 'Spain'], countries) # Which elements of the first array are in the second and returns booleans"
   ]
  },
  {
   "cell_type": "markdown",
   "metadata": {},
   "source": [
    "# Array Input and Output"
   ]
  },
  {
   "cell_type": "code",
   "execution_count": 1,
   "metadata": {},
   "outputs": [
    {
     "name": "stdout",
     "output_type": "stream",
     "text": [
      "[0 1 2 3 4 5 6 7 8 9]\n",
      "[0 1 2 3 4]\n",
      "[5 6 7 8 9]\n",
      "[10 12 14 16 18]\n",
      "[0. 1. 2. 3. 4. 5. 6. 7. 8. 9.]\n"
     ]
    }
   ],
   "source": [
    "import numpy as np\n",
    "\n",
    "arr = np.arange(5)\n",
    "np.save('arr', arr) # Saves this array in a file named 'arr.npy'\n",
    "\n",
    "arr = np.arange(10)\n",
    "print(arr)\n",
    "\n",
    "arr2 = np.load('arr.npy') # loads the array\n",
    "print(arr2)\n",
    "\n",
    "arr2 = np.arange(5,10,1)\n",
    "arr3 = np.arange(10,20,2)\n",
    "\n",
    "np.savez('ziparray.npz', x = arr2, y = arr3) # Multiple array saving\n",
    "archive = np.load('ziparray.npz')\n",
    "print(archive['x'])\n",
    "print(archive['y'])\n",
    "\n",
    "np.savetxt('file_Arr.txt',arr, delimiter=';') # Saves the array as text file separating the fields with ';'\n",
    "arr_txt = np.loadtxt('file_Arr.txt',delimiter=';') \n",
    "\n",
    "print(arr_txt)"
   ]
  },
  {
   "cell_type": "code",
   "execution_count": null,
   "metadata": {},
   "outputs": [],
   "source": []
  }
 ],
 "metadata": {
  "kernelspec": {
   "display_name": "Python 3",
   "language": "python",
   "name": "python3"
  },
  "language_info": {
   "codemirror_mode": {
    "name": "ipython",
    "version": 3
   },
   "file_extension": ".py",
   "mimetype": "text/x-python",
   "name": "python",
   "nbconvert_exporter": "python",
   "pygments_lexer": "ipython3",
   "version": "3.7.4"
  }
 },
 "nbformat": 4,
 "nbformat_minor": 2
}
